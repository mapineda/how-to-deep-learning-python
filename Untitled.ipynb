{
 "cells": [
  {
   "cell_type": "code",
   "execution_count": 1,
   "metadata": {},
   "outputs": [
    {
     "name": "stdout",
     "output_type": "stream",
     "text": [
      "Random starting synaptic weight:\n",
      "[[-0.16595599]\n",
      " [ 0.44064899]\n",
      " [-0.99977125]]\n",
      "Neural network weights after training: \n",
      "[[ 9.67299303]\n",
      " [-0.2078435 ]\n",
      " [-4.62963669]]\n",
      "predicting\n",
      "[ 0.99993704]\n"
     ]
    }
   ],
   "source": [
    "from numpy import exp, array, random, dot\n",
    "\n",
    "class NeuralNetwork():\n",
    "    def __init__(self):\n",
    "        #seed the random number generator\n",
    "        random.seed(1)\n",
    "        \n",
    "        self.synaptic_weights = 2 * random.random((3,1)) - 1\n",
    "    \n",
    "    def __sigmoid(self, x):\n",
    "        return 1/(1 + exp(-x))\n",
    "    \n",
    "    def __sigmoid_derivative(self, x):\n",
    "        return x * (1-x)\n",
    "    \n",
    "    def train(self, training_set_inputs, training_set_outputs, number_of_training_iterations):\n",
    "        for iteration in xrange(number_of_training_iterations):\n",
    "                output= self.predict(training_set_inputs)\n",
    "                #calculate the error\n",
    "                error = training_set_outputs - output\n",
    "                #calculate the adjustment\n",
    "                adjustment = dot(training_set_inputs.T, error * self.__sigmoid_derivative(output))\n",
    "            \n",
    "                self.synaptic_weights += adjustment\n",
    "                \n",
    "    def predict(self, inputs):\n",
    "        return self.__sigmoid(dot(inputs, self.synaptic_weights))\n",
    "\n",
    "\n",
    "if __name__ == \"__main__\":\n",
    "# initialize single neural network\n",
    "    neural_network = NeuralNetwork()\n",
    "\n",
    "print 'Random starting synaptic weight:'\n",
    "print neural_network.synaptic_weights;\n",
    "\n",
    "# training set. We have 4 examples consisting of 3 inputs and 1 output\n",
    "training_set_inputs = array([[0,0,1], [1,1,1], [1,0,1], [0,1,1]])\n",
    "training_set_outputs = array([[0,1,1,0]]).T\n",
    "\n",
    "#train the neural network using the training set\n",
    "neural_network.train(training_set_inputs, training_set_outputs, 10000)\n",
    "\n",
    "print 'Neural network weights after training: '\n",
    "print neural_network.synaptic_weights\n",
    "\n",
    "#test the neural network\n",
    "print 'predicting'\n",
    "print neural_network.predict(array([1,0,0]))\n"
   ]
  },
  {
   "cell_type": "code",
   "execution_count": null,
   "metadata": {
    "collapsed": true
   },
   "outputs": [],
   "source": []
  }
 ],
 "metadata": {
  "anaconda-cloud": {},
  "kernelspec": {
   "display_name": "Python [conda root]",
   "language": "python",
   "name": "conda-root-py"
  },
  "language_info": {
   "codemirror_mode": {
    "name": "ipython",
    "version": 2
   },
   "file_extension": ".py",
   "mimetype": "text/x-python",
   "name": "python",
   "nbconvert_exporter": "python",
   "pygments_lexer": "ipython2",
   "version": "2.7.13"
  }
 },
 "nbformat": 4,
 "nbformat_minor": 2
}
